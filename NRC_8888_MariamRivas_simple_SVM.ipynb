{
  "cells": [
    {
      "cell_type": "markdown",
      "id": "bfb47238",
      "metadata": {
        "id": "bfb47238"
      },
      "source": [
        "# Support Vector Machine (SVM)"
      ]
    },
    {
      "cell_type": "code",
      "execution_count": 1,
      "id": "e1b8d36c",
      "metadata": {
        "id": "e1b8d36c"
      },
      "outputs": [],
      "source": [
        "# Importar las librerías necesarias\n",
        "from sklearn import datasets\n",
        "from sklearn.model_selection import train_test_split\n",
        "from sklearn import svm\n",
        "from sklearn import metrics"
      ]
    },
    {
      "cell_type": "code",
      "execution_count": 2,
      "id": "de508e96",
      "metadata": {
        "id": "de508e96"
      },
      "outputs": [],
      "source": [
        "# Cargar el conjunto de datos \n",
        "def cargar():\n",
        "    df = datasets.load_wine()\n",
        "\n",
        "    # imprimir los nombres de las funciones\n",
        "    print(\"Features:\\n\", df.feature_names)\n",
        "\n",
        "    # imprime la etiqueta tipo de cánce\n",
        "    print(\"Labels:\\n\", df.target_names)\n",
        "\n",
        "    # imprimir el tipo\n",
        "    print(\"Shape:\\n\", df.data.shape)\n",
        "\n",
        "    # imprimir los 5 primeros registros\n",
        "    print(\"Top five records:\\n\", df.data[0:5])\n",
        "    return df"
      ]
    },
    {
      "cell_type": "code",
      "execution_count": 3,
      "id": "84acdc55",
      "metadata": {
        "id": "84acdc55"
      },
      "outputs": [],
      "source": [
        "#Funcion para crear el modelo\n",
        "def crear(X_train, y_train,X_test):\n",
        "    \n",
        "    # crear un clasificador svm con kernel lineal\n",
        "    clf = svm.SVC(kernel='linear')\n",
        "\n",
        "    # entrenar el modelo\n",
        "    clf.fit(X_train, y_train)\n",
        "\n",
        "    # predecir la respuesta para el conjunto de datos de prueba\n",
        "    y_pred = clf.predict(X_test)\n",
        "    return y_pred"
      ]
    },
    {
      "cell_type": "code",
      "execution_count": 7,
      "id": "4adfc2f2",
      "metadata": {
        "id": "4adfc2f2"
      },
      "outputs": [],
      "source": [
        "### Evaluar el modelo\n",
        "def evaluar(y_test, y_pred):\n",
        "    \n",
        "    # Precisión del modelo: ¿con qué frecuencia es correcto el clasificador?\n",
        "    print(\"Accuracy:\", metrics.accuracy_score(y_test, y_pred))\n",
        "\n",
        "    # Precisión del modelo: ¿qué porcentaje de tuplas positivas se etiquetan como tales?\n",
        "    print(\"Precision:\", metrics.precision_score(y_test, y_pred, average='macro'))\n",
        "\n",
        "    # Recordatorio de modelos: ¿qué porcentaje de tuplas positivas se etiquetan como tales?\n",
        "    print(\"Recall:\", metrics.recall_score(y_test, y_pred, average='macro'))\n"
      ]
    },
    {
      "cell_type": "code",
      "execution_count": 4,
      "id": "5136a669",
      "metadata": {
        "id": "5136a669"
      },
      "outputs": [],
      "source": [
        ""
      ]
    },
    {
      "cell_type": "code",
      "execution_count": 10,
      "id": "e80a7ad4",
      "metadata": {
        "colab": {
          "base_uri": "https://localhost:8080/"
        },
        "id": "e80a7ad4",
        "outputId": "d62d14c7-11a4-4141-8970-06e245da732f"
      },
      "outputs": [
        {
          "output_type": "stream",
          "name": "stdout",
          "text": [
            "Features:\n",
            " ['alcohol', 'malic_acid', 'ash', 'alcalinity_of_ash', 'magnesium', 'total_phenols', 'flavanoids', 'nonflavanoid_phenols', 'proanthocyanins', 'color_intensity', 'hue', 'od280/od315_of_diluted_wines', 'proline']\n",
            "Labels:\n",
            " ['class_0' 'class_1' 'class_2']\n",
            "Shape:\n",
            " (178, 13)\n",
            "Top five records:\n",
            " [[1.423e+01 1.710e+00 2.430e+00 1.560e+01 1.270e+02 2.800e+00 3.060e+00\n",
            "  2.800e-01 2.290e+00 5.640e+00 1.040e+00 3.920e+00 1.065e+03]\n",
            " [1.320e+01 1.780e+00 2.140e+00 1.120e+01 1.000e+02 2.650e+00 2.760e+00\n",
            "  2.600e-01 1.280e+00 4.380e+00 1.050e+00 3.400e+00 1.050e+03]\n",
            " [1.316e+01 2.360e+00 2.670e+00 1.860e+01 1.010e+02 2.800e+00 3.240e+00\n",
            "  3.000e-01 2.810e+00 5.680e+00 1.030e+00 3.170e+00 1.185e+03]\n",
            " [1.437e+01 1.950e+00 2.500e+00 1.680e+01 1.130e+02 3.850e+00 3.490e+00\n",
            "  2.400e-01 2.180e+00 7.800e+00 8.600e-01 3.450e+00 1.480e+03]\n",
            " [1.324e+01 2.590e+00 2.870e+00 2.100e+01 1.180e+02 2.800e+00 2.690e+00\n",
            "  3.900e-01 1.820e+00 4.320e+00 1.040e+00 2.930e+00 7.350e+02]]\n",
            "\n",
            "Accuracy: 0.9259259259259259\n",
            "Precision: 0.9361111111111112\n",
            "Recall: 0.9298245614035089\n"
          ]
        }
      ],
      "source": [
        "#Llamar a todas las funciones creadas \n",
        "df = cargar()\n",
        "X_train, X_test, y_train, y_test = train_test_split(df.data, df.target, test_size=0.3, random_state=109)\n",
        "y_pred = crear(X_train, y_train,X_test)\n",
        "print(\"\")\n",
        "evaluar(y_test, y_pred)"
      ]
    }
  ],
  "metadata": {
    "colab": {
      "name": "NRC_8888_MariamRivas_simple_SVM.ipynb",
      "provenance": [],
      "collapsed_sections": []
    },
    "kernelspec": {
      "display_name": "Python 3",
      "language": "python",
      "name": "python3"
    },
    "language_info": {
      "codemirror_mode": {
        "name": "ipython",
        "version": 3
      },
      "file_extension": ".py",
      "mimetype": "text/x-python",
      "name": "python",
      "nbconvert_exporter": "python",
      "pygments_lexer": "ipython3",
      "version": "3.8.8"
    }
  },
  "nbformat": 4,
  "nbformat_minor": 5
}
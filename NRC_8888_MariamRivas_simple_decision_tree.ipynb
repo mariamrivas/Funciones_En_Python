{
  "cells": [
    {
      "cell_type": "markdown",
      "id": "db1123c0",
      "metadata": {
        "id": "db1123c0"
      },
      "source": [
        "# Decision Tree"
      ]
    },
    {
      "cell_type": "code",
      "execution_count": null,
      "id": "2ffdaca2",
      "metadata": {
        "id": "2ffdaca2"
      },
      "outputs": [],
      "source": [
        "# Importacion de las librerias y los modulos\n",
        "import pandas\n",
        "from sklearn import tree\n",
        "import pydotplus\n",
        "from sklearn.tree import DecisionTreeClassifier\n",
        "%matplotlib notebook\n",
        "import matplotlib.pyplot as plt\n",
        "import matplotlib.image as pltimg"
      ]
    },
    {
      "cell_type": "code",
      "execution_count": null,
      "id": "b2965121",
      "metadata": {
        "id": "b2965121"
      },
      "outputs": [],
      "source": [
        "# Función para realizar la lectura de los datos\n",
        "def cargar():\n",
        "    df = pandas.read_csv('datos.csv')\n",
        "    print(df)\n",
        "    return df"
      ]
    },
    {
      "cell_type": "code",
      "execution_count": null,
      "id": "79435856",
      "metadata": {
        "id": "79435856"
      },
      "outputs": [],
      "source": [
        "# Función para cambiar los valores de cadena en valores en numericos\n",
        "def cambiar(df):\n",
        "    d1 = {'SI': 1 , 'NO': 0}\n",
        "    df['Influencer'] = df['Influencer'].map(d1)\n",
        "    print(df)"
      ]
    },
    {
      "cell_type": "code",
      "execution_count": null,
      "id": "e9b893bb",
      "metadata": {
        "id": "e9b893bb"
      },
      "outputs": [],
      "source": [
        "# Función para hacer una eleccion de las características, es decir, columnas de las que intentamos predecir\n",
        "def elegir(df):\n",
        "    features = ['Youtube', 'Faceboock', 'Tick Tock','Instagram']\n",
        "    X = df[features]\n",
        "    # Elegir el objetivo, es decir, la columna con los valores que intentamos predecir\n",
        "    y = df['Influencer']\n",
        "    return X, y, features"
      ]
    },
    {
      "cell_type": "code",
      "execution_count": null,
      "id": "cb7ec326",
      "metadata": {
        "id": "cb7ec326"
      },
      "outputs": [],
      "source": [
        "# Función para crear y se retorna el árbol de decisiones\n",
        "def crear(X, y):\n",
        "    dtree = DecisionTreeClassifier()\n",
        "    dtree = dtree.fit(X, y)\n",
        "    return dtree"
      ]
    },
    {
      "cell_type": "code",
      "execution_count": null,
      "id": "cce9e8fb",
      "metadata": {
        "id": "cce9e8fb"
      },
      "outputs": [],
      "source": [
        "# Función para guarda el árbol de decisiones como una imagen llamada mydecisiontree de formato png.\n",
        "def guardar(dtree, features):\n",
        "    data = tree.export_graphviz(dtree, out_file=None, feature_names=features)\n",
        "    graph = pydotplus.graph_from_dot_data(data)\n",
        "    graph.write_png('mydecisiontree.png')"
      ]
    },
    {
      "cell_type": "code",
      "execution_count": null,
      "id": "06446761",
      "metadata": {
        "id": "06446761"
      },
      "outputs": [],
      "source": [
        "# Función que muestra la imagen\n",
        "def mostrar():\n",
        "    img = pltimg.imread('mydecisiontree.png')\n",
        "    imgplot = plt.imshow(img)\n",
        "    plt.show()"
      ]
    },
    {
      "cell_type": "code",
      "execution_count": null,
      "id": "11953d1a",
      "metadata": {
        "colab": {
          "base_uri": "https://localhost:8080/"
        },
        "id": "11953d1a",
        "outputId": "d83be490-92cf-4973-d585-0597954b8c95"
      },
      "outputs": [
        {
          "output_type": "stream",
          "name": "stdout",
          "text": [
            "    Youtube  Faceboock  Instagram  Tick Tock Influencer\n",
            "0     10000  445564445   16515511    9878411         SI\n",
            "1     15265      54545   54156181      48579         NO\n",
            "2    556484     602121   58941898     183957         NO\n",
            "3     45645     545454   44594789      98454         NO\n",
            "4       554    1216654  774849844    1514848         SI\n",
            "5    454554    4515161   49517511    6517784         SI\n",
            "6     44998   56445156   51941755    4454494         SI\n",
            "7    554454    6545454  541879841    4545444         NO\n",
            "8      5454    5455654     954445    5484985         NO\n",
            "9     84454     545454     544599   45464544         NO\n",
            "10   441998    5456454    5564545     554499         SI\n",
            "11  5414554   54546544   54456454    9565444         SI\n",
            "12  5641654    5554855  148948984   56489541         SI\n"
          ]
        }
      ],
      "source": [
        "#Llamar a la función para cargar los datos\n",
        "df = cargar()"
      ]
    },
    {
      "cell_type": "code",
      "execution_count": null,
      "id": "598ed7db",
      "metadata": {
        "colab": {
          "base_uri": "https://localhost:8080/"
        },
        "id": "598ed7db",
        "outputId": "a9086249-b6b4-48b4-a1fc-b7dadfca6af7"
      },
      "outputs": [
        {
          "output_type": "stream",
          "name": "stdout",
          "text": [
            "    Youtube  Faceboock  Instagram  Tick Tock  Influencer\n",
            "0     10000  445564445   16515511    9878411           1\n",
            "1     15265      54545   54156181      48579           0\n",
            "2    556484     602121   58941898     183957           0\n",
            "3     45645     545454   44594789      98454           0\n",
            "4       554    1216654  774849844    1514848           1\n",
            "5    454554    4515161   49517511    6517784           1\n",
            "6     44998   56445156   51941755    4454494           1\n",
            "7    554454    6545454  541879841    4545444           0\n",
            "8      5454    5455654     954445    5484985           0\n",
            "9     84454     545454     544599   45464544           0\n",
            "10   441998    5456454    5564545     554499           1\n",
            "11  5414554   54546544   54456454    9565444           1\n",
            "12  5641654    5554855  148948984   56489541           1\n"
          ]
        }
      ],
      "source": [
        "#Llamar a la función para cambiar los datos de tipo booleano a tipo númerico\n",
        "cambiar(df)"
      ]
    },
    {
      "cell_type": "code",
      "execution_count": null,
      "id": "f851b8d2",
      "metadata": {
        "id": "f851b8d2"
      },
      "outputs": [],
      "source": [
        "#Llamar a la función que elige las caracteristicas\n",
        "X, y, features = elegir(df)"
      ]
    },
    {
      "cell_type": "code",
      "execution_count": null,
      "id": "249dee7a",
      "metadata": {
        "id": "249dee7a"
      },
      "outputs": [],
      "source": [
        "#Llamar a la función que crea el árbol de desición\n",
        "datos = crear(X, y)"
      ]
    },
    {
      "cell_type": "code",
      "execution_count": null,
      "id": "b3ad39d1",
      "metadata": {
        "id": "b3ad39d1"
      },
      "outputs": [],
      "source": [
        "#Llamar a la función que guarda la imagen del árbol de decisión\n",
        "guardar(datos, features)"
      ]
    },
    {
      "cell_type": "code",
      "execution_count": null,
      "id": "3cba3832",
      "metadata": {
        "id": "3cba3832",
        "colab": {
          "base_uri": "https://localhost:8080/",
          "height": 269
        },
        "outputId": "1cfffffe-9b82-49e4-ff2d-e955b6fd50e7"
      },
      "outputs": [
        {
          "output_type": "display_data",
          "data": {
            "image/png": "[encoded data removed]",
            "text/plain": [
              "<Figure size 432x288 with 1 Axes>"
            ]
          },
          "metadata": {
            "needs_background": "light"
          }
        }
      ],
      "source": [
        "#Llamar a la función que imprime la imagen\n",
        "mostrar()"
      ]
    }
  ],
  "metadata": {
    "colab": {
      "collapsed_sections": [],
      "name": "NRC_8888_MariamRivas_simple_decision_tree_.ipynb",
      "provenance": [],
      "toc_visible": true
    },
    "kernelspec": {
      "display_name": "Python 3",
      "language": "python",
      "name": "python3"
    },
    "language_info": {
      "codemirror_mode": {
        "name": "ipython",
        "version": 3
      },
      "file_extension": ".py",
      "mimetype": "text/x-python",
      "name": "python",
      "nbconvert_exporter": "python",
      "pygments_lexer": "ipython3",
      "version": "3.8.8"
    }
  },
  "nbformat": 4,
  "nbformat_minor": 5
}